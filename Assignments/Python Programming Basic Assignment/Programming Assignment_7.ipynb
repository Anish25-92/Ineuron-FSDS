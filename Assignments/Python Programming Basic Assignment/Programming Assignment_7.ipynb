{
 "cells": [
  {
   "cell_type": "markdown",
   "metadata": {},
   "source": [
    "# Programming Assignment_7"
   ]
  },
  {
   "cell_type": "markdown",
   "metadata": {},
   "source": [
    "# 1.Write a Python Program to find sum of array?"
   ]
  },
  {
   "cell_type": "code",
   "execution_count": 3,
   "metadata": {},
   "outputs": [
    {
     "name": "stdout",
     "output_type": "stream",
     "text": [
      "sum of array: 1781\n"
     ]
    }
   ],
   "source": [
    "l=[212,412,436,721]\n",
    "\n",
    "arraysum=0\n",
    "for i in  l:\n",
    "    arraysum=arraysum+i\n",
    "print(\"sum of array:\",arraysum)        "
   ]
  },
  {
   "cell_type": "markdown",
   "metadata": {},
   "source": [
    "# 2. Write a Python Program to find largest element in an array?"
   ]
  },
  {
   "cell_type": "code",
   "execution_count": 7,
   "metadata": {},
   "outputs": [
    {
     "name": "stdout",
     "output_type": "stream",
     "text": [
      "Largest element of the array 721\n"
     ]
    }
   ],
   "source": [
    "l=[212,412,436,721]\n",
    "mx = l[0];  \n",
    "for i in range(0, len(l)): \n",
    "    if(l[i] > mx):\n",
    "        mx = l[i];  \n",
    "print(\"Largest element of the array {}\" .format(mx))    "
   ]
  },
  {
   "cell_type": "markdown",
   "metadata": {},
   "source": [
    "# 3. Write a Python Program for array rotation?"
   ]
  },
  {
   "cell_type": "code",
   "execution_count": 9,
   "metadata": {},
   "outputs": [
    {
     "name": "stdout",
     "output_type": "stream",
     "text": [
      "Roated array : [721, 436, 412, 212]\n"
     ]
    }
   ],
   "source": [
    "l=[212,412,436,721]\n",
    "\n",
    "print('Rotated array : {}'.format(l[::-1]))"
   ]
  },
  {
   "cell_type": "markdown",
   "metadata": {},
   "source": [
    "# 4. Write a Python Program to Split the array and add the first part to the end?"
   ]
  },
  {
   "cell_type": "code",
   "execution_count": 3,
   "metadata": {},
   "outputs": [
    {
     "name": "stdout",
     "output_type": "stream",
     "text": [
      "[10, 12, 15, 5, 6, 8]\n"
     ]
    }
   ],
   "source": [
    "arr=[5,6,8,10,12,15]\n",
    "\n",
    "index=int(len(arr)/2)\n",
    "new_arr=[]\n",
    "for i in arr:\n",
    "    if index >= len(arr):\n",
    "        index=0\n",
    "    new_arr.append(arr[index])\n",
    "    index+=1\n",
    "print(new_arr)"
   ]
  },
  {
   "cell_type": "markdown",
   "metadata": {},
   "source": [
    "# 5. Write a Python Program to check if given array is Monotonic?"
   ]
  },
  {
   "cell_type": "code",
   "execution_count": 4,
   "metadata": {},
   "outputs": [],
   "source": [
    "def ismonotone(arr):\n",
    "    n=len(arr) \n",
    "    if n==1:\n",
    "        return True\n",
    "    else:\n",
    "        \n",
    "        if all(arr[i]>=arr[i+1] for i in range(0,n-1) or arr[i]<=arr[i+1] for i in range(0,n-1)):\n",
    "            return True\n",
    "        else:\n",
    "            return False"
   ]
  },
  {
   "cell_type": "code",
   "execution_count": 5,
   "metadata": {},
   "outputs": [
    {
     "data": {
      "text/plain": [
       "False"
      ]
     },
     "execution_count": 5,
     "metadata": {},
     "output_type": "execute_result"
    }
   ],
   "source": [
    "array = [1,2,3,56, 124, 369]\n",
    "ismonotone(array)"
   ]
  },
  {
   "cell_type": "code",
   "execution_count": 6,
   "metadata": {},
   "outputs": [
    {
     "data": {
      "text/plain": [
       "True"
      ]
     },
     "execution_count": 6,
     "metadata": {},
     "output_type": "execute_result"
    }
   ],
   "source": [
    "array = [123,43, 12, 2, -23,-345]\n",
    "ismonotone(array)"
   ]
  },
  {
   "cell_type": "code",
   "execution_count": 7,
   "metadata": {},
   "outputs": [
    {
     "data": {
      "text/plain": [
       "False"
      ]
     },
     "execution_count": 7,
     "metadata": {},
     "output_type": "execute_result"
    }
   ],
   "source": [
    "array = [123,-23, 783, -98,0, 12]\n",
    "ismonotone(array)"
   ]
  },
  {
   "cell_type": "code",
   "execution_count": null,
   "metadata": {},
   "outputs": [],
   "source": [
    " "
   ]
  }
 ],
 "metadata": {
  "kernelspec": {
   "display_name": "Python 3",
   "language": "python",
   "name": "python3"
  },
  "language_info": {
   "codemirror_mode": {
    "name": "ipython",
    "version": 3
   },
   "file_extension": ".py",
   "mimetype": "text/x-python",
   "name": "python",
   "nbconvert_exporter": "python",
   "pygments_lexer": "ipython3",
   "version": "3.8.3"
  }
 },
 "nbformat": 4,
 "nbformat_minor": 4
}
