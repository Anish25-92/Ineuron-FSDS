{
 "cells": [
  {
   "cell_type": "markdown",
   "metadata": {},
   "source": [
    "# Programming Assignment_8"
   ]
  },
  {
   "cell_type": "markdown",
   "metadata": {},
   "source": [
    "# 1. Write a Python Program to Add Two Matrices?"
   ]
  },
  {
   "cell_type": "code",
   "execution_count": 2,
   "metadata": {},
   "outputs": [],
   "source": [
    "mat1=[[1,2,3],\n",
    "     [8,7,6],\n",
    "     [3,7,5]]\n",
    "mat2=[[11,26,-7],\n",
    "     [14,-23,90],\n",
    "      [42,36,-3]]\n"
   ]
  },
  {
   "cell_type": "code",
   "execution_count": 6,
   "metadata": {},
   "outputs": [
    {
     "name": "stdout",
     "output_type": "stream",
     "text": [
      "[[12, 28, -4], [22, -16, 96], [45, 43, 2]]\n"
     ]
    }
   ],
   "source": [
    "new_mat=[]\n",
    "for i in range(len(mat1)):\n",
    "    row=[]\n",
    "    for j in range(len(mat1)):\n",
    "        row.append(mat1[i][j]+mat2[i][j])\n",
    "        \n",
    "    new_mat.append(row)\n",
    "print(new_mat)"
   ]
  },
  {
   "cell_type": "markdown",
   "metadata": {},
   "source": [
    "# 2. Write a Python Program to Multiply Two Matrices?"
   ]
  },
  {
   "cell_type": "code",
   "execution_count": null,
   "metadata": {},
   "outputs": [],
   "source": [
    "mat1=[[1,2,3],\n",
    "     [8,7,6],\n",
    "     [3,7,5]]\n",
    "mat2=[[11,26,-7],\n",
    "     [14,-23,90],\n",
    "      [42,36,-3]]"
   ]
  },
  {
   "cell_type": "code",
   "execution_count": 17,
   "metadata": {},
   "outputs": [
    {
     "name": "stdout",
     "output_type": "stream",
     "text": [
      "[33, 156, -63]\n",
      "[336, -483, 1620]\n",
      "[378, 756, -45]\n"
     ]
    }
   ],
   "source": [
    "new_mat=[[0, 0, 0],\n",
    "        [0, 0, 0],\n",
    "        [0, 0, 0]]\n",
    "for i in range(len(mat1)):\n",
    "    for j in range(len(mat2[0])):\n",
    "        for k in range(len(mat2)):\n",
    "            new_mat[i][j]+=mat1[i][j]*mat2[i][j]\n",
    "for r in new_mat:\n",
    "    print(r)"
   ]
  },
  {
   "cell_type": "markdown",
   "metadata": {},
   "source": [
    "# 3. Write a Python Program to Transpose a Matrix?"
   ]
  },
  {
   "cell_type": "code",
   "execution_count": 18,
   "metadata": {},
   "outputs": [
    {
     "name": "stdout",
     "output_type": "stream",
     "text": [
      "[12, 4, 3]\n",
      "[7, 5, 8]\n"
     ]
    }
   ],
   "source": [
    "x = [[12,7],\n",
    "    [4 ,5],\n",
    "    [3 ,8]]\n",
    "\n",
    "new_mat=[[0,0,0],\n",
    "        [0,0,0]]\n",
    "\n",
    "for i in  range(len(x)):\n",
    "    for j in range(len(x[0])):\n",
    "        new_mat[j][i]=x[i][j]\n",
    "for r in new_mat:\n",
    "    print(r)        \n"
   ]
  },
  {
   "cell_type": "markdown",
   "metadata": {},
   "source": [
    "# 4. Write a Python Program to Sort Words in Alphabetic Order?"
   ]
  },
  {
   "cell_type": "code",
   "execution_count": 20,
   "metadata": {},
   "outputs": [
    {
     "name": "stdout",
     "output_type": "stream",
     "text": [
      "Enter some string :this is ineuron assignment\n",
      "assignment ineuron is this "
     ]
    }
   ],
   "source": [
    "words = input(\"Enter some string :\").split()\n",
    "words.sort()\n",
    "for word in words:\n",
    "    print(word, end = \" \")"
   ]
  },
  {
   "cell_type": "markdown",
   "metadata": {},
   "source": [
    "# 5. Write a Python Program to Remove Punctuation From a String?"
   ]
  },
  {
   "cell_type": "code",
   "execution_count": 22,
   "metadata": {},
   "outputs": [
    {
     "name": "stdout",
     "output_type": "stream",
     "text": [
      "Enter the string :hello!!!!!!;i am here<>???%good boy^^6   \n",
      "helloi am heregood boy6   \n"
     ]
    }
   ],
   "source": [
    "punctuations = \"'!()-[]{};:'\\\",<>./?@#$%^&*_~'\"\n",
    "outputString = \"\"\n",
    "\n",
    "inputstring= input(\"Enter the string :\")\n",
    "\n",
    "for i in inputstring:\n",
    "    if i not in punctuations:\n",
    "        outputString+= i\n",
    "print(outputString)\n",
    "     "
   ]
  },
  {
   "cell_type": "code",
   "execution_count": null,
   "metadata": {},
   "outputs": [],
   "source": []
  }
 ],
 "metadata": {
  "kernelspec": {
   "display_name": "Python 3",
   "language": "python",
   "name": "python3"
  },
  "language_info": {
   "codemirror_mode": {
    "name": "ipython",
    "version": 3
   },
   "file_extension": ".py",
   "mimetype": "text/x-python",
   "name": "python",
   "nbconvert_exporter": "python",
   "pygments_lexer": "ipython3",
   "version": "3.8.3"
  }
 },
 "nbformat": 4,
 "nbformat_minor": 4
}
