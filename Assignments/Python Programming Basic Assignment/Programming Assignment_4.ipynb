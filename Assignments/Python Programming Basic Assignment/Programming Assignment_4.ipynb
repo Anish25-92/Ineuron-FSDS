{
 "cells": [
  {
   "cell_type": "markdown",
   "metadata": {},
   "source": [
    "# 1.Write a Python Program to Find the Factorial of a Number?\n",
    "\n"
   ]
  },
  {
   "cell_type": "code",
   "execution_count": 1,
   "metadata": {},
   "outputs": [
    {
     "name": "stdout",
     "output_type": "stream",
     "text": [
      "Enter a number :5\n",
      "The factorial of 5 is : 120\n"
     ]
    }
   ],
   "source": [
    "num=int(input('Enter a number :'))\n",
    "\n",
    "fact=1\n",
    "for i in range(num,0,-1):\n",
    "    fact= fact*i\n",
    "print(f\"The factorial of {num} is : {fact}\")"
   ]
  },
  {
   "cell_type": "markdown",
   "metadata": {},
   "source": [
    "# 2.Write a Python Program to Display the multiplication Table?\n"
   ]
  },
  {
   "cell_type": "code",
   "execution_count": 5,
   "metadata": {},
   "outputs": [
    {
     "name": "stdout",
     "output_type": "stream",
     "text": [
      "Enter a number :8\n",
      " 8 x 1 = 8\n",
      " 8 x 2 = 16\n",
      " 8 x 3 = 24\n",
      " 8 x 4 = 32\n",
      " 8 x 5 = 40\n",
      " 8 x 6 = 48\n",
      " 8 x 7 = 56\n",
      " 8 x 8 = 64\n",
      " 8 x 9 = 72\n",
      " 8 x 10 = 80\n"
     ]
    }
   ],
   "source": [
    "num=int(input('Enter a number :'))\n",
    "\n",
    "for i in range(1,11):\n",
    "    print(f\" {num} x {i} =\",num*i)"
   ]
  },
  {
   "cell_type": "markdown",
   "metadata": {},
   "source": [
    "# 3.Write a Python Program to Print the Fibonacci sequence?\n"
   ]
  },
  {
   "cell_type": "code",
   "execution_count": 17,
   "metadata": {},
   "outputs": [
    {
     "name": "stdout",
     "output_type": "stream",
     "text": [
      "Enter a terms: 11\n",
      "0 1 1 2 3 5 8 13 21 34 55 "
     ]
    }
   ],
   "source": [
    "length = int(input(\"Enter a terms: \"))\n",
    " \n",
    "a = 0\n",
    "b = 1\n",
    "if length>2:\n",
    "    print(a, end = ' ')\n",
    "    print(b, end = ' ')\n",
    "\n",
    "for i in range(1,length-1):\n",
    "    next=a+b\n",
    "    print(next,end = ' ')\n",
    "    a=b\n",
    "    b=next"
   ]
  },
  {
   "cell_type": "markdown",
   "metadata": {},
   "source": [
    "# 4.Write a Python Program to Check Armstrong Number?\n"
   ]
  },
  {
   "cell_type": "code",
   "execution_count": 26,
   "metadata": {},
   "outputs": [
    {
     "name": "stdout",
     "output_type": "stream",
     "text": [
      "Enter a number :127\n",
      "127 is not an Armstrong number\n"
     ]
    }
   ],
   "source": [
    "num=int(input('Enter a number :'))\n",
    "s=0\n",
    "t=num\n",
    "while t > 0:\n",
    "    digit = t % 10\n",
    "    s += digit ** 3\n",
    "    t //= 10\n",
    "if num == s:\n",
    "    print(num,\"is an Armstrong number\")\n",
    "else:\n",
    "    print(num,\"is not an Armstrong number\")\n"
   ]
  },
  {
   "cell_type": "markdown",
   "metadata": {},
   "source": [
    "# 5.Write a Python Program to Find Armstrong Number in an Interval?\n"
   ]
  },
  {
   "cell_type": "code",
   "execution_count": 39,
   "metadata": {},
   "outputs": [
    {
     "name": "stdout",
     "output_type": "stream",
     "text": [
      "Enter the lower range:100\n",
      "Enter the lower range:1500\n",
      "\n",
      "From 100 to 1500 following are the Armstrong Number:\n",
      "153 370 371 407 "
     ]
    }
   ],
   "source": [
    "lower=int(input(\"Enter the lower range:\"))\n",
    "upper=int(input(\"Enter the lower range:\"))\n",
    "\n",
    "def arm_check(num):\n",
    "    l=len(str(num))\n",
    "    s=0\n",
    "    t=num\n",
    "    while t > 0:\n",
    "        digit = t % 10\n",
    "        s += int(digit ** l)\n",
    "        t //= 10\n",
    "    if num == int(s):\n",
    "        return 1\n",
    "    else:\n",
    "        return 0\n",
    "\n",
    "print(f\"\\nFrom {lower} to {upper} following are the Armstrong Number:\",end='\\n') \n",
    "\n",
    "for i in range(lower,upper):\n",
    "    if(arm_check(i)):\n",
    "        print(i,end=' ')"
   ]
  },
  {
   "cell_type": "markdown",
   "metadata": {},
   "source": [
    "# 6.Write a Python Program to Find the Sum of Natural Numbers?"
   ]
  },
  {
   "cell_type": "code",
   "execution_count": 41,
   "metadata": {},
   "outputs": [
    {
     "name": "stdout",
     "output_type": "stream",
     "text": [
      "Enter a positive number: 50\n",
      "Sum of 50 natural number is 1275\n"
     ]
    }
   ],
   "source": [
    "num=int(input(\"Enter a positive number: \"))\n",
    "\n",
    "total_sum=0\n",
    "for i in range(1,num+1):\n",
    "    total_sum+=i\n",
    "    \n",
    "print(f\"Sum of {num} natural number is {total_sum}\")"
   ]
  },
  {
   "cell_type": "code",
   "execution_count": null,
   "metadata": {},
   "outputs": [],
   "source": []
  }
 ],
 "metadata": {
  "kernelspec": {
   "display_name": "Python 3",
   "language": "python",
   "name": "python3"
  },
  "language_info": {
   "codemirror_mode": {
    "name": "ipython",
    "version": 3
   },
   "file_extension": ".py",
   "mimetype": "text/x-python",
   "name": "python",
   "nbconvert_exporter": "python",
   "pygments_lexer": "ipython3",
   "version": "3.8.3"
  }
 },
 "nbformat": 4,
 "nbformat_minor": 4
}
