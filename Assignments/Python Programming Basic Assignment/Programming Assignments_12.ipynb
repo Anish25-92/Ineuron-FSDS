{
 "cells": [
  {
   "cell_type": "markdown",
   "metadata": {},
   "source": [
    "# Write a Python program to Extract Unique values dictionary values?"
   ]
  },
  {
   "cell_type": "code",
   "execution_count": 1,
   "metadata": {},
   "outputs": [],
   "source": [
    " test_dict = {'k1' : [5, 6, 7, 8],\n",
    "             'k2' : \"anish\",\n",
    "             'k3' : [6, 7, 5, 9],\n",
    "             'k4' : 205\n",
    "            }"
   ]
  },
  {
   "cell_type": "code",
   "execution_count": 2,
   "metadata": {},
   "outputs": [
    {
     "name": "stdout",
     "output_type": "stream",
     "text": [
      "{5, 6, 7, 8, 9, 205, 'anish'}\n"
     ]
    }
   ],
   "source": [
    "unique_ele=set()\n",
    "\n",
    "for value in test_dict.values():\n",
    "    if type(value)== list:\n",
    "        for ele in value:\n",
    "            unique_ele.add(ele)\n",
    "    else:\n",
    "        unique_ele.add(value)\n",
    "\n",
    "        \n",
    "print(unique_ele) "
   ]
  },
  {
   "cell_type": "markdown",
   "metadata": {},
   "source": [
    "# Write a Python program to Merging two Dictionaries?"
   ]
  },
  {
   "cell_type": "code",
   "execution_count": 3,
   "metadata": {},
   "outputs": [],
   "source": [
    "test_dict = {'k1': 1, 'k2': 2, 'k3': 'hello', 'k4': 'hello', 'k5':2}\n",
    "test_dict_1 = {'k6': 1, 'k7': 2, 'k8': 6, 'k9': 8, 'k10':6}"
   ]
  },
  {
   "cell_type": "code",
   "execution_count": 4,
   "metadata": {},
   "outputs": [
    {
     "name": "stdout",
     "output_type": "stream",
     "text": [
      "{'k1': 1, 'k2': 2, 'k3': 'hello', 'k4': 'hello', 'k5': 2, 'k6': 1, 'k7': 2, 'k8': 6, 'k9': 8, 'k10': 6}\n"
     ]
    }
   ],
   "source": [
    "test_dict_2=test_dict.copy()\n",
    "test_dict_2.update(test_dict_1)\n",
    "print(test_dict_2)"
   ]
  },
  {
   "cell_type": "code",
   "execution_count": null,
   "metadata": {},
   "outputs": [],
   "source": []
  },
  {
   "cell_type": "code",
   "execution_count": null,
   "metadata": {},
   "outputs": [],
   "source": []
  },
  {
   "cell_type": "code",
   "execution_count": null,
   "metadata": {},
   "outputs": [],
   "source": []
  },
  {
   "cell_type": "code",
   "execution_count": null,
   "metadata": {},
   "outputs": [],
   "source": [
    "\n"
   ]
  }
 ],
 "metadata": {
  "kernelspec": {
   "display_name": "Python 3",
   "language": "python",
   "name": "python3"
  },
  "language_info": {
   "codemirror_mode": {
    "name": "ipython",
    "version": 3
   },
   "file_extension": ".py",
   "mimetype": "text/x-python",
   "name": "python",
   "nbconvert_exporter": "python",
   "pygments_lexer": "ipython3",
   "version": "3.8.3"
  }
 },
 "nbformat": 4,
 "nbformat_minor": 4
}
