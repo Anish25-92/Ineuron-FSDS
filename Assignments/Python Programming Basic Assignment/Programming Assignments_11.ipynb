{
 "cells": [
  {
   "cell_type": "markdown",
   "metadata": {},
   "source": [
    "# Write a Python program to find words which are greater than given length k?"
   ]
  },
  {
   "cell_type": "code",
   "execution_count": 1,
   "metadata": {},
   "outputs": [],
   "source": [
    "def greater_length(l,k):\n",
    "    result=[]\n",
    "    for i in l:\n",
    "        if len(i)>k:\n",
    "            result.append(i)\n",
    "    print(result)"
   ]
  },
  {
   "cell_type": "code",
   "execution_count": 2,
   "metadata": {},
   "outputs": [
    {
     "name": "stdout",
     "output_type": "stream",
     "text": [
      "['Apple', 'bananana', 'berry', 'almond', 'Mangos']\n"
     ]
    }
   ],
   "source": [
    "list_of_words = ['Apple', 'bananana', 'kiwi', 'berry', 'almond','Mangos']\n",
    "greater_length(list_of_words ,4)"
   ]
  },
  {
   "cell_type": "markdown",
   "metadata": {},
   "source": [
    "# Write a Python program for removing i-th character from a string?"
   ]
  },
  {
   "cell_type": "code",
   "execution_count": 3,
   "metadata": {},
   "outputs": [],
   "source": [
    "def remove_character(s,i):\n",
    "    s=s.replace(s[i],'')\n",
    "    return s"
   ]
  },
  {
   "cell_type": "code",
   "execution_count": 4,
   "metadata": {},
   "outputs": [
    {
     "data": {
      "text/plain": [
       "'ineurnfsds'"
      ]
     },
     "execution_count": 4,
     "metadata": {},
     "output_type": "execute_result"
    }
   ],
   "source": [
    "s=\"ineuronfsds\"\n",
    "remove_character(s,5)"
   ]
  },
  {
   "cell_type": "markdown",
   "metadata": {},
   "source": [
    "# Write a Python program to split and join a string?"
   ]
  },
  {
   "cell_type": "code",
   "execution_count": 5,
   "metadata": {},
   "outputs": [
    {
     "name": "stdout",
     "output_type": "stream",
     "text": [
      "['Write', 'a', 'Python', 'program', 'to', 'split', 'and', 'join', 'a', 'string']\n",
      "Write a Python program to split and join a string\n"
     ]
    }
   ],
   "source": [
    "s=\"Write a Python program to split and join a string\"\n",
    "split=s.split(' ')\n",
    "print(split)\n",
    "\n",
    "join=\" \".join(split)\n",
    "print(join)"
   ]
  },
  {
   "cell_type": "markdown",
   "metadata": {},
   "source": [
    "# Write a Python to check if a given string is binary string or not?"
   ]
  },
  {
   "cell_type": "code",
   "execution_count": 7,
   "metadata": {},
   "outputs": [
    {
     "name": "stdout",
     "output_type": "stream",
     "text": [
      "input a string:ghdretejh\n",
      "not a binary string\n"
     ]
    }
   ],
   "source": [
    "s=input(\"input a string:\")\n",
    "t=[i for i in s if i not in ['0','1']]\n",
    "if len(t)==0:\n",
    "    print(\"binary\")\n",
    "else:\n",
    "    print(\"not a binary string\")"
   ]
  },
  {
   "cell_type": "markdown",
   "metadata": {},
   "source": [
    "# Write a Python program to find uncommon words from two Strings?"
   ]
  },
  {
   "cell_type": "code",
   "execution_count": 8,
   "metadata": {},
   "outputs": [
    {
     "name": "stdout",
     "output_type": "stream",
     "text": [
      "input a string:tgre\n",
      "input a string:hgdr\n",
      "['t', 'e', 'h', 'd']\n"
     ]
    }
   ],
   "source": [
    "s1=input(\"input a string:\")\n",
    "s2=input(\"input a string:\")\n",
    "s1.split(\" \")\n",
    "s2.split(\" \")\n",
    "\n",
    "uncommon=[word for word in s1  if word not in s2 ]\n",
    "uncommon.extend([word for word in s2 if word not in s1])\n",
    "print(uncommon)"
   ]
  },
  {
   "cell_type": "markdown",
   "metadata": {},
   "source": [
    "# Write a Python to find all duplicate characters in string?"
   ]
  },
  {
   "cell_type": "code",
   "execution_count": 9,
   "metadata": {},
   "outputs": [
    {
     "name": "stdout",
     "output_type": "stream",
     "text": [
      "input a string:tertwsw\n",
      "['t', 't', 'w', 'w']\n"
     ]
    }
   ],
   "source": [
    "string=input(\"input a string:\")\n",
    "duplicate=[word for word in string if string.count(word)>1]\n",
    "print(duplicate)"
   ]
  },
  {
   "cell_type": "markdown",
   "metadata": {},
   "source": [
    "# Write a Python Program to check if a string contains any special character?"
   ]
  },
  {
   "cell_type": "code",
   "execution_count": 3,
   "metadata": {},
   "outputs": [
    {
     "name": "stdout",
     "output_type": "stream",
     "text": [
      "Enter a string:ytrtfde#\n",
      "Given string contains special characters\n"
     ]
    }
   ],
   "source": [
    "s=input(\"Enter a string:\")\n",
    "import re\n",
    "regex = re.compile('[@_!#$%^&*()<>?/\\|}{~:]')  \n",
    "\n",
    "if(regex.search(s) == None):\n",
    "    print(\"Given string does not contain special characters\")\n",
    "else:\n",
    "    print(\"Given string contains special characters\")"
   ]
  },
  {
   "cell_type": "code",
   "execution_count": null,
   "metadata": {},
   "outputs": [],
   "source": []
  }
 ],
 "metadata": {
  "kernelspec": {
   "display_name": "Python 3",
   "language": "python",
   "name": "python3"
  },
  "language_info": {
   "codemirror_mode": {
    "name": "ipython",
    "version": 3
   },
   "file_extension": ".py",
   "mimetype": "text/x-python",
   "name": "python",
   "nbconvert_exporter": "python",
   "pygments_lexer": "ipython3",
   "version": "3.8.3"
  }
 },
 "nbformat": 4,
 "nbformat_minor": 4
}
