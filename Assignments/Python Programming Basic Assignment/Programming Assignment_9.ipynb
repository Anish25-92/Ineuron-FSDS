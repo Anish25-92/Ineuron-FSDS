{
 "cells": [
  {
   "cell_type": "markdown",
   "metadata": {},
   "source": [
    "# Programming Assignment_9"
   ]
  },
  {
   "cell_type": "markdown",
   "metadata": {},
   "source": [
    "# 1. Write a Python program to check if the given number is a Disarium Number?"
   ]
  },
  {
   "cell_type": "code",
   "execution_count": 5,
   "metadata": {},
   "outputs": [
    {
     "name": "stdout",
     "output_type": "stream",
     "text": [
      "Enter a number175\n",
      "175 is a disarium number\n"
     ]
    }
   ],
   "source": [
    "num=input(\"Enter a number\")\n",
    "total=0\n",
    "for i in range(0,len(num)):\n",
    "    n= int(num[i])\n",
    "    n=n**(i+1)\n",
    "    total=total+n\n",
    "if total==int(num) :\n",
    "    print(f\"{num} is a disarium number\")\n",
    "else:\n",
    "    print(f\"{num} is not a disarium number\")\n",
    "    "
   ]
  },
  {
   "cell_type": "markdown",
   "metadata": {},
   "source": [
    "# 2. Write a Python program to print all disarium numbers between 1 to 100?"
   ]
  },
  {
   "cell_type": "code",
   "execution_count": 8,
   "metadata": {},
   "outputs": [
    {
     "name": "stdout",
     "output_type": "stream",
     "text": [
      "1 2 3 4 5 6 7 8 9 89 "
     ]
    }
   ],
   "source": [
    "for i in range(1,101):\n",
    "    num=str(i)\n",
    "    total=0\n",
    "    for j in range(len(num)):\n",
    "        total+=int(num[j])**(j+1)\n",
    "    if int(num)==total:\n",
    "        print(num,end=' ')\n",
    "    "
   ]
  },
  {
   "cell_type": "markdown",
   "metadata": {},
   "source": [
    "# 3. Write a Python program to check if the given number is Happy Number?\n"
   ]
  },
  {
   "cell_type": "code",
   "execution_count": 18,
   "metadata": {},
   "outputs": [],
   "source": [
    "def isHappynumber(n):\n",
    "    if n == 1 or n == 7:\n",
    "        return True\n",
    "    Sum, x = n, n\n",
    "    while Sum > 9:\n",
    "        Sum = 0  \n",
    "        while x > 0:\n",
    "            d = x % 10\n",
    "            Sum += d * d\n",
    "            x = int(x / 10)\n",
    "         \n",
    "        if Sum == 1:\n",
    "            return True\n",
    "              \n",
    "        x = Sum\n",
    "     \n",
    "    if Sum == 7:\n",
    "        return True\n",
    "          \n",
    "    return False\n",
    "  "
   ]
  },
  {
   "cell_type": "code",
   "execution_count": 22,
   "metadata": {},
   "outputs": [
    {
     "name": "stdout",
     "output_type": "stream",
     "text": [
      "Enter a number to check if it is a Happy Number: 13\n",
      "13 is a Happy number\n"
     ]
    }
   ],
   "source": [
    "n = int(input(\"Enter a number to check if it is a Happy Number: \"))\n",
    "if isHappynumber(n):\n",
    "    print(f\"{n} is a Happy number\");\n",
    "else:\n",
    "    print(f\"{n} is not a Happy number\");"
   ]
  },
  {
   "cell_type": "markdown",
   "metadata": {},
   "source": [
    "# 4. Write a Python program to print all happy numbers between 1 and 100?"
   ]
  },
  {
   "cell_type": "code",
   "execution_count": 21,
   "metadata": {},
   "outputs": [
    {
     "name": "stdout",
     "output_type": "stream",
     "text": [
      "1 7 10 13 19 23 28 31 32 44 49 68 70 79 82 86 91 94 97 100 "
     ]
    }
   ],
   "source": [
    "for i in range(1, 101):\n",
    "    if isHappynumber(i) == True:\n",
    "        print(i, end = ' ')"
   ]
  },
  {
   "cell_type": "markdown",
   "metadata": {},
   "source": [
    "# 5. Write a Python program to determine whether the given number is a Harshad Number?"
   ]
  },
  {
   "cell_type": "code",
   "execution_count": 24,
   "metadata": {},
   "outputs": [
    {
     "name": "stdout",
     "output_type": "stream",
     "text": [
      "Enter a  Number:18\n",
      "18 is a Harshad Number\n"
     ]
    }
   ],
   "source": [
    "def is_harshad_number(n):\n",
    "    s = 0\n",
    "    for c in str(n):\n",
    "        s += int(c)\n",
    "        \n",
    "    if n % s == 0:\n",
    "        return True\n",
    "    return False\n",
    "x = int(input(\"Enter a  Number:\"))\n",
    "if is_harshad_number(x):\n",
    "    print(f\"{x} is a Harshad Number\")\n",
    "else:\n",
    "    print(f\"{x} is not a Harshad Number\")"
   ]
  },
  {
   "cell_type": "markdown",
   "metadata": {},
   "source": [
    "# 6. Write a Python program to print all pronic numbers between 1 and 100?"
   ]
  },
  {
   "cell_type": "code",
   "execution_count": 25,
   "metadata": {},
   "outputs": [
    {
     "name": "stdout",
     "output_type": "stream",
     "text": [
      "1 2 3 4 5 6 7 8 9 10 12 18 20 21 24 27 30 36 40 42 45 48 50 54 60 63 70 72 80 81 84 90 100 "
     ]
    }
   ],
   "source": [
    "for i in range(1, 101):\n",
    "    if is_harshad_number(i):\n",
    "        print(i, end= \" \")"
   ]
  },
  {
   "cell_type": "code",
   "execution_count": null,
   "metadata": {},
   "outputs": [],
   "source": []
  }
 ],
 "metadata": {
  "kernelspec": {
   "display_name": "Python 3",
   "language": "python",
   "name": "python3"
  },
  "language_info": {
   "codemirror_mode": {
    "name": "ipython",
    "version": 3
   },
   "file_extension": ".py",
   "mimetype": "text/x-python",
   "name": "python",
   "nbconvert_exporter": "python",
   "pygments_lexer": "ipython3",
   "version": "3.8.3"
  }
 },
 "nbformat": 4,
 "nbformat_minor": 4
}
