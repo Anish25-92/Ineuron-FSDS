{
 "cells": [
  {
   "cell_type": "markdown",
   "metadata": {},
   "source": [
    "# Programming Assignment_1"
   ]
  },
  {
   "cell_type": "raw",
   "metadata": {},
   "source": [
    "1.\tWrite a Python program to print \"Hello Python\"?\n",
    "Code:"
   ]
  },
  {
   "cell_type": "code",
   "execution_count": 1,
   "metadata": {},
   "outputs": [
    {
     "name": "stdout",
     "output_type": "stream",
     "text": [
      "Hello Python\n"
     ]
    }
   ],
   "source": [
    "print(\"Hello Python\")"
   ]
  },
  {
   "cell_type": "raw",
   "metadata": {},
   "source": [
    "2.Write a Python program to do arithmetical operations addition and division.?\n",
    "Code:"
   ]
  },
  {
   "cell_type": "code",
   "execution_count": 3,
   "metadata": {},
   "outputs": [
    {
     "name": "stdout",
     "output_type": "stream",
     "text": [
      "10\n",
      "5\n",
      "15\n",
      "2.0\n"
     ]
    }
   ],
   "source": [
    "a=int(input())\n",
    "b=int(input())\n",
    "add=a+b\n",
    "div=a/b\n",
    "\n",
    "print(add)\n",
    "print(div)"
   ]
  },
  {
   "cell_type": "raw",
   "metadata": {},
   "source": [
    "3.Write a Python program to find the area of a triangle?\n",
    "Code:"
   ]
  },
  {
   "cell_type": "code",
   "execution_count": 5,
   "metadata": {},
   "outputs": [
    {
     "name": "stdout",
     "output_type": "stream",
     "text": [
      "Height:20\n",
      "Base:10\n",
      "Area of Triangle : 100.0\n"
     ]
    }
   ],
   "source": [
    "height=int(input('Height:'))\n",
    "base=int(input('Base:'))\n",
    "area=(height*base)/2\n",
    "print('Area of Triangle :',area)"
   ]
  },
  {
   "cell_type": "raw",
   "metadata": {},
   "source": [
    "4.Write a Python program to swap two variables?\n",
    "Code:"
   ]
  },
  {
   "cell_type": "code",
   "execution_count": 6,
   "metadata": {},
   "outputs": [
    {
     "name": "stdout",
     "output_type": "stream",
     "text": [
      "Value of a:10\n",
      "Value of b:20\n",
      "Value of a after swapping: 20\n",
      "Value of b after swapping: 10\n"
     ]
    }
   ],
   "source": [
    "a=input('Value of a:')\n",
    "b=input('Value of b:')\n",
    "\n",
    "x=a\n",
    "a=b\n",
    "b=x\n",
    "\n",
    "print('Value of a after swapping:',a)\n",
    "print('Value of b after swapping:',b)"
   ]
  },
  {
   "cell_type": "raw",
   "metadata": {},
   "source": [
    "5.Write a Python program to generate a random number?\n",
    "code:"
   ]
  },
  {
   "cell_type": "code",
   "execution_count": 7,
   "metadata": {},
   "outputs": [],
   "source": [
    "import random"
   ]
  },
  {
   "cell_type": "code",
   "execution_count": 9,
   "metadata": {},
   "outputs": [
    {
     "name": "stdout",
     "output_type": "stream",
     "text": [
      "0.16722076451299306\n",
      "691\n"
     ]
    }
   ],
   "source": [
    "print(random.random())\n",
    "print(random.randint(2,700))"
   ]
  },
  {
   "cell_type": "code",
   "execution_count": null,
   "metadata": {},
   "outputs": [],
   "source": []
  }
 ],
 "metadata": {
  "kernelspec": {
   "display_name": "Python 3",
   "language": "python",
   "name": "python3"
  },
  "language_info": {
   "codemirror_mode": {
    "name": "ipython",
    "version": 3
   },
   "file_extension": ".py",
   "mimetype": "text/x-python",
   "name": "python",
   "nbconvert_exporter": "python",
   "pygments_lexer": "ipython3",
   "version": "3.8.3"
  }
 },
 "nbformat": 4,
 "nbformat_minor": 4
}
