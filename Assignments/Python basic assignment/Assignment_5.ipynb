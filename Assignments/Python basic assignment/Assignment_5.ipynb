{
 "cells": [
  {
   "cell_type": "markdown",
   "metadata": {},
   "source": [
    "# Assignment_5"
   ]
  },
  {
   "cell_type": "raw",
   "metadata": {},
   "source": [
    "1. What does an empty dictionary's code look like?\n",
    "Ans:\n",
    "empty_dict={}"
   ]
  },
  {
   "cell_type": "code",
   "execution_count": 2,
   "metadata": {},
   "outputs": [
    {
     "data": {
      "text/plain": [
       "dict"
      ]
     },
     "execution_count": 2,
     "metadata": {},
     "output_type": "execute_result"
    }
   ],
   "source": [
    "empty_dict={}\n",
    "type(empty_dict)\n"
   ]
  },
  {
   "cell_type": "raw",
   "metadata": {},
   "source": [
    "2. What is the value of a dictionary value with the key 'foo' and the value 42?\n",
    "Ans:42\n"
   ]
  },
  {
   "cell_type": "raw",
   "metadata": {},
   "source": [
    "3. What is the most significant distinction between a dictionary and a list?\n",
    "Ans:\n",
    "1.A list is an ordered sequence of objects, whereas dictionaries are unordered sets\n",
    "2.items in dictionaries are accessed via keys and not via their position"
   ]
  },
  {
   "cell_type": "raw",
   "metadata": {},
   "source": [
    "4. What happens if you try to access spam['foo'] if spam is {'bar': 100}?\n",
    "Ans:It will throw an error"
   ]
  },
  {
   "cell_type": "raw",
   "metadata": {},
   "source": [
    "5. If a dictionary is stored in spam, what is the difference between the expressions 'cat' in spam and 'cat' in spam.keys()?\n",
    "Ans:\n",
    "There is no difference\n",
    "'cat' in spam: This expression checks whether there is a 'cat' KEY in the dictionary\n",
    "'cat' in spam.keys(): This will checks whether there is a key 'cat' in spam."
   ]
  },
  {
   "cell_type": "code",
   "execution_count": 2,
   "metadata": {},
   "outputs": [
    {
     "name": "stdout",
     "output_type": "stream",
     "text": [
      "True True\n"
     ]
    }
   ],
   "source": [
    "spam = {'cat': 123, 'cat2': 'sudh'}\n",
    "a = 'cat' in spam\n",
    "b = 'cat' in spam.keys()\n",
    "print(a, b)"
   ]
  },
  {
   "cell_type": "raw",
   "metadata": {},
   "source": [
    "6. If a dictionary is stored in spam, what is the difference between the expressions 'cat' in spam and 'cat' in spam.values()?\n",
    "Ans:\n",
    "Difference:\n",
    "'cat' in spam: This expression checks whether there is a 'cat' KEY in the dictionary\n",
    "'cat' in spam.values(): This will checks whether there is a value 'cat' in spam."
   ]
  },
  {
   "cell_type": "code",
   "execution_count": 3,
   "metadata": {},
   "outputs": [
    {
     "name": "stdout",
     "output_type": "stream",
     "text": [
      "True False\n"
     ]
    }
   ],
   "source": [
    "spam = {'cat': 123, 'cat2': 'sudh'}\n",
    "a = 'cat' in spam\n",
    "b = 'cat' in spam.values()\n",
    "print(a, b)"
   ]
  },
  {
   "cell_type": "raw",
   "metadata": {},
   "source": [
    "7. What is a shortcut for the following code?\n",
    "if 'color' not in spam:\n",
    "spam['color'] = 'black'"
   ]
  },
  {
   "cell_type": "code",
   "execution_count": 4,
   "metadata": {},
   "outputs": [
    {
     "data": {
      "text/plain": [
       "{'cat': 123, 'cat2': 'sudh'}"
      ]
     },
     "execution_count": 4,
     "metadata": {},
     "output_type": "execute_result"
    }
   ],
   "source": [
    "spam"
   ]
  },
  {
   "cell_type": "code",
   "execution_count": 6,
   "metadata": {},
   "outputs": [
    {
     "data": {
      "text/plain": [
       "{'cat': 123, 'cat2': 'sudh', 'color': 'black'}"
      ]
     },
     "execution_count": 6,
     "metadata": {},
     "output_type": "execute_result"
    }
   ],
   "source": [
    "spam.setdefault('color','black')\n",
    "spam"
   ]
  },
  {
   "cell_type": "raw",
   "metadata": {},
   "source": [
    "8. How do you \"pretty print\" dictionary values using which module and function?\n",
    "code:\n",
    "The pprint module provides a capability to “pretty-print” arbitrary Python data structures in a well-formatted and more readable way."
   ]
  },
  {
   "cell_type": "code",
   "execution_count": 7,
   "metadata": {},
   "outputs": [
    {
     "name": "stdout",
     "output_type": "stream",
     "text": [
      "{'cat': 123, 'cat2': 'sudh', 'color': 'black'}\n"
     ]
    }
   ],
   "source": [
    "import pprint\n",
    "pprint.pprint(spam)"
   ]
  },
  {
   "cell_type": "code",
   "execution_count": null,
   "metadata": {},
   "outputs": [],
   "source": []
  }
 ],
 "metadata": {
  "kernelspec": {
   "display_name": "Python 3",
   "language": "python",
   "name": "python3"
  },
  "language_info": {
   "codemirror_mode": {
    "name": "ipython",
    "version": 3
   },
   "file_extension": ".py",
   "mimetype": "text/x-python",
   "name": "python",
   "nbconvert_exporter": "python",
   "pygments_lexer": "ipython3",
   "version": "3.8.3"
  }
 },
 "nbformat": 4,
 "nbformat_minor": 4
}
