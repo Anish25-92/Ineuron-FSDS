{
 "cells": [
  {
   "cell_type": "markdown",
   "metadata": {},
   "source": [
    "# Assignment---3"
   ]
  },
  {
   "cell_type": "raw",
   "metadata": {},
   "source": [
    "1. Why are functions advantageous to have in your programs?\n",
    "Ans:\n",
    "Maximizing code reusability\n",
    "minimizing redundancy\n",
    "procedual decomposition\n",
    "make program simpler to read and understand"
   ]
  },
  {
   "cell_type": "raw",
   "metadata": {},
   "source": [
    "2. When does the code in a function run: when it's specified or when it's called?\n",
    "Ans:\n",
    "the function run or execute when it is called."
   ]
  },
  {
   "cell_type": "raw",
   "metadata": {},
   "source": [
    "3. What statement creates a function?\n",
    "Ans:\n",
    "Def keyword followed by function_name the n parentheses."
   ]
  },
  {
   "cell_type": "code",
   "execution_count": 1,
   "metadata": {},
   "outputs": [],
   "source": [
    "def test():\n",
    "    pass"
   ]
  },
  {
   "cell_type": "raw",
   "metadata": {},
   "source": [
    "4. What is the difference between a function and a function call?\n",
    "Ans:\n",
    "Function: function is a set of code which produce some result.we can use function again again in different places just by call with it's name\n",
    "\n",
    "Function call:Function call is used to run the code/set codes inside the function"
   ]
  },
  {
   "cell_type": "raw",
   "metadata": {},
   "source": [
    "5. How many global scopes are there in a Python program? How many local scopes?\n",
    "Ans:\n",
    "There are 1 global scopes and 1 local scope in the python program."
   ]
  },
  {
   "cell_type": "raw",
   "metadata": {},
   "source": [
    "6. What happens to variables in a local scope when the function call returns?\n",
    "The local variables are destroyed when function call returns."
   ]
  },
  {
   "cell_type": "raw",
   "metadata": {},
   "source": [
    "7. What is the concept of a return value? Is it possible to have a return value in an expression?\n",
    "Ans:\n",
    "Return value is value, varible or expression which a function can return.\n",
    "Yes function return value can be an expression."
   ]
  },
  {
   "cell_type": "raw",
   "metadata": {},
   "source": [
    "8. If a function does not have a return statement, what is the return value of a call to that function?\n",
    "Ans:\n",
    "If a function does not have a return statement that means the function is not returning any values.\n",
    "It will return a NoneType. \n"
   ]
  },
  {
   "cell_type": "raw",
   "metadata": {},
   "source": [
    "9. How do you make a function variable refer to the global variable?\n",
    "Ans:\n",
    "This can be refered by using global keyword."
   ]
  },
  {
   "cell_type": "code",
   "execution_count": 6,
   "metadata": {},
   "outputs": [
    {
     "name": "stdout",
     "output_type": "stream",
     "text": [
      "0\n",
      "5\n"
     ]
    }
   ],
   "source": [
    "v=0\n",
    "def test1():\n",
    "    global v\n",
    "    v=5\n",
    "print(v)\n",
    "test1()\n",
    "print(v)"
   ]
  },
  {
   "cell_type": "raw",
   "metadata": {},
   "source": [
    "10. What is the data type of None?\n",
    "Ans:\n",
    "None data type is a null variable or null object. The null object is a data type of class NoneType."
   ]
  },
  {
   "cell_type": "raw",
   "metadata": {},
   "source": [
    "11.What does the sentence import areallyourpetsnamederic do?\n",
    "Ans:\n",
    "The statement in the question import python module  areallyourpetsnamederic."
   ]
  },
  {
   "cell_type": "raw",
   "metadata": {},
   "source": [
    "12. If you had a bacon() feature in a spam module, what would you call it after importing spam?\n",
    "Ans:\n",
    "import spam\n",
    "spam.bacon()"
   ]
  },
  {
   "cell_type": "raw",
   "metadata": {},
   "source": [
    "13.What can you do to save a programme from crashing if it encounters an error?\n",
    "Ans:\n",
    "To save the program from crashing over a runtime error we can use the try and except statement.\n",
    "It will save from only the runtime error not the compile time error."
   ]
  },
  {
   "cell_type": "code",
   "execution_count": 7,
   "metadata": {},
   "outputs": [
    {
     "name": "stdout",
     "output_type": "stream",
     "text": [
      "division by zero\n"
     ]
    }
   ],
   "source": [
    "try:\n",
    "    5/0\n",
    "except Exception as e:\n",
    "    print(e)"
   ]
  },
  {
   "cell_type": "raw",
   "metadata": {},
   "source": [
    "14. What is the purpose of the try clause? What is the purpose of the except clause?\n",
    "Ans:\n",
    "To save the program from crashing over a runtime error we can use the try and except statement.It will save from only the runtime error not the compile time error.\n",
    "\n",
    "Try: Try block is used for any suspicious code which can throw a runtime error.\n",
    "Except: Except block is used to catch error if any encountered inside try block."
   ]
  },
  {
   "cell_type": "code",
   "execution_count": null,
   "metadata": {},
   "outputs": [],
   "source": []
  },
  {
   "cell_type": "code",
   "execution_count": null,
   "metadata": {},
   "outputs": [],
   "source": []
  },
  {
   "cell_type": "code",
   "execution_count": null,
   "metadata": {},
   "outputs": [],
   "source": []
  },
  {
   "cell_type": "code",
   "execution_count": null,
   "metadata": {},
   "outputs": [],
   "source": []
  }
 ],
 "metadata": {
  "kernelspec": {
   "display_name": "Python 3",
   "language": "python",
   "name": "python3"
  },
  "language_info": {
   "codemirror_mode": {
    "name": "ipython",
    "version": 3
   },
   "file_extension": ".py",
   "mimetype": "text/x-python",
   "name": "python",
   "nbconvert_exporter": "python",
   "pygments_lexer": "ipython3",
   "version": "3.8.3"
  }
 },
 "nbformat": 4,
 "nbformat_minor": 4
}
