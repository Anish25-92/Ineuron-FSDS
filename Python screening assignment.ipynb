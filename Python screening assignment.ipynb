{
 "cells": [
  {
   "cell_type": "markdown",
   "metadata": {},
   "source": [
    "# 1. Create a function in python to read the text file and replace specific content of the file.\n"
   ]
  },
  {
   "cell_type": "code",
   "execution_count": 1,
   "metadata": {},
   "outputs": [],
   "source": [
    "# function for reading and replacing\n",
    "def read_replace(find_txt, replace_txt, filename):\n",
    "    with open(filename, 'r') as file:\n",
    "        readtext = file.read()\n",
    "        replace = readtext.replace(find_txt, replace_txt)\n",
    "    with open(filename, 'w') as file:\n",
    "        file.write(replace)\n",
    "    return 'placement is replaced by screening'"
   ]
  },
  {
   "cell_type": "code",
   "execution_count": 4,
   "metadata": {},
   "outputs": [
    {
     "name": "stdout",
     "output_type": "stream",
     "text": [
      "After Replacing : This is a screening assignment\n"
     ]
    }
   ],
   "source": [
    "# write file with Origin file content\n",
    "with open('example.txt', 'w') as i:\n",
    "    i.write('This is a placement assignment')\n",
    "    \n",
    "# Use the read_replace function to replace string 'placement'\n",
    "read_replace('placement','screening', 'example.txt')\n",
    "with open('example.txt', 'r') as i:\n",
    "    print('After Replacing :',i.read())    "
   ]
  },
  {
   "cell_type": "markdown",
   "metadata": {},
   "source": [
    "# 2. Demonstrate use of abstract class, multiple inheritance and decorator in python using examples."
   ]
  },
  {
   "cell_type": "code",
   "execution_count": 7,
   "metadata": {},
   "outputs": [],
   "source": [
    "# Abstract class\n",
    "from abc import ABC, abstractmethod\n",
    "class calculate_Perimeter(ABC):\n",
    "    def text(self):\n",
    "        return 'Abstract Base Class'\n",
    "    @abstractmethod # decorator\n",
    "    def perimeter(self):\n",
    "        pass\n",
    "\n",
    "class square(calculate_Perimeter):\n",
    "    def __init__(self,side):\n",
    "        self.__side=side        \n",
    "    def perimeter(self):\n",
    "        return 4*self.__side\n",
    "\n",
    "class rectangle(calculate_Perimeter):\n",
    "    def __init__(self, length, width):\n",
    "        self.length = length\n",
    "        self.width =  width\n",
    "    def perimeter(self):\n",
    "        return 2*(self.length+self.width)\n",
    "\n",
    "class circle(calculate_Perimeter):\n",
    "    def __init__(self, redius):\n",
    "        self.redius= redius\n",
    "    def perimeter(self):\n",
    "        return 2*3.14*self.redius\n"
   ]
  },
  {
   "cell_type": "code",
   "execution_count": 10,
   "metadata": {},
   "outputs": [
    {
     "name": "stdout",
     "output_type": "stream",
     "text": [
      "Abstract Base Class\n",
      "Perimeter of Square 8 \n",
      "\n",
      " Abstract Base Class\n",
      "Perimeter of Rectangle 12\n",
      "\n",
      " Abstract Base Class\n",
      "Perimeter of circle 18.84 \n"
     ]
    }
   ],
   "source": [
    "S = square(2)\n",
    "print(S.text())\n",
    "print(f'Perimeter of Square {S.perimeter()} ' )\n",
    "\n",
    "R= rectangle(4,2)\n",
    "print(\"\\n\",R.text())\n",
    "print(f'Perimeter of Rectangle {R.perimeter()}')\n",
    "\n",
    "C= circle(3)\n",
    "print(\"\\n\",C.text())\n",
    "print(f'Perimeter of circle {C.perimeter()} ')"
   ]
  },
  {
   "cell_type": "code",
   "execution_count": 22,
   "metadata": {},
   "outputs": [
    {
     "name": "stdout",
     "output_type": "stream",
     "text": [
      "30\n",
      "-70\n",
      "8265\n",
      "3.0\n"
     ]
    }
   ],
   "source": [
    "# Multiple Inheritance \n",
    "class calculator_1:  \n",
    "    def add(self,a,b):  \n",
    "        return a+b  \n",
    "class calculator_2:\n",
    "    def subtract(self,a,b):\n",
    "        return a-b\n",
    "class calculator_3:  \n",
    "    def multiply(self,a,b):  \n",
    "        return a*b  \n",
    "class Calculated(calculator_1, calculator_2,calculator_3):  \n",
    "    def divide(self,a,b):  \n",
    "        return a/b                                                        \n",
    "c=Calculated()\n",
    "print(c.add(20,10))\n",
    "print(c.subtract(27,97))\n",
    "print(c.multiply(95,87))\n",
    "print(c.divide(81,27))"
   ]
  },
  {
   "cell_type": "code",
   "execution_count": 45,
   "metadata": {},
   "outputs": [],
   "source": [
    "# decorator\n",
    "def palindrome(func):\n",
    "    def inner(num):\n",
    "        temp=num\n",
    "        rev=0\n",
    "        while num>0:\n",
    "            dig=num%10\n",
    "            rev=rev*10+dig\n",
    "            num=num//10\n",
    "        if(temp==rev):\n",
    "            print(\"The number is palindrome\")\n",
    "        else:\n",
    "            print(\"Not a palindrome number\")\n",
    "        return func()\n",
    "    return inner\n",
    "\n",
    "@palindrome  #decorator\n",
    "def input():\n",
    "    pass\n",
    "            \n"
   ]
  },
  {
   "cell_type": "code",
   "execution_count": 46,
   "metadata": {},
   "outputs": [
    {
     "name": "stdout",
     "output_type": "stream",
     "text": [
      "The number is palindrome\n"
     ]
    }
   ],
   "source": [
    "input(123321)"
   ]
  },
  {
   "cell_type": "code",
   "execution_count": 39,
   "metadata": {},
   "outputs": [],
   "source": []
  },
  {
   "cell_type": "code",
   "execution_count": null,
   "metadata": {},
   "outputs": [],
   "source": []
  },
  {
   "cell_type": "code",
   "execution_count": null,
   "metadata": {},
   "outputs": [],
   "source": []
  }
 ],
 "metadata": {
  "kernelspec": {
   "display_name": "Python 3",
   "language": "python",
   "name": "python3"
  },
  "language_info": {
   "codemirror_mode": {
    "name": "ipython",
    "version": 3
   },
   "file_extension": ".py",
   "mimetype": "text/x-python",
   "name": "python",
   "nbconvert_exporter": "python",
   "pygments_lexer": "ipython3",
   "version": "3.8.3"
  }
 },
 "nbformat": 4,
 "nbformat_minor": 4
}
